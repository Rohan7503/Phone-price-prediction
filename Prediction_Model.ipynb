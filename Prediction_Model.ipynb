{
 "cells": [
  {
   "cell_type": "markdown",
   "id": "62a6bbf2",
   "metadata": {},
   "source": [
    "### <font color = 'black'> Import Modules </font>"
   ]
  },
  {
   "cell_type": "code",
   "execution_count": 619,
   "id": "01c5a1b7",
   "metadata": {},
   "outputs": [],
   "source": [
    "import pandas as pd\n",
    "import numpy as np\n",
    "import matplotlib.pyplot as plt\n",
    "from sklearn.model_selection import train_test_split\n",
    "from sklearn.linear_model import LinearRegression"
   ]
  },
  {
   "cell_type": "markdown",
   "id": "630f9529",
   "metadata": {},
   "source": [
    "### <font color = 'black'> Read and Prep File </font>"
   ]
  },
  {
   "cell_type": "code",
   "execution_count": 620,
   "id": "f342e2e7",
   "metadata": {
    "collapsed": true
   },
   "outputs": [
    {
     "name": "stderr",
     "output_type": "stream",
     "text": [
      "C:\\Users\\rohan\\anaconda3\\lib\\site-packages\\pandas\\core\\algorithms.py:798: FutureWarning: In a future version, the Index constructor will not infer numeric dtypes when passed object-dtype sequences (matching Series behavior)\n",
      "  uniques = Index(uniques)\n"
     ]
    }
   ],
   "source": [
    "df=pd.read_csv(\"ndtv_data_final_clean_2.csv\")\n",
    "df_copy=df.copy()\n",
    "\n",
    "df=df.astype({'Front camera':'object','Number of SIMs':'object','Processor':'object','Rear camera':'object'})\n",
    "df.drop(['F1','3G', '4g/ Lte', 'Bluetooth', 'GPS', 'Touchscreen', 'Wi-Fi','Resolution', 'Resolution x', 'Resolution y','Battery capacity (mAh) (bin)'],axis=1,inplace=True)\n",
    "df=pd.get_dummies(df,drop_first=True)"
   ]
  },
  {
   "cell_type": "markdown",
   "id": "a0c78ce5",
   "metadata": {},
   "source": [
    "### <font color ='k'> Train Test Split </font>"
   ]
  },
  {
   "cell_type": "code",
   "execution_count": 621,
   "id": "c3f98213",
   "metadata": {},
   "outputs": [],
   "source": [
    "X=df.drop('Price',axis=1)\n",
    "y=df['Price']\n",
    "X_train,X_test,y_train,y_test = train_test_split(X,y,test_size=0.2,random_state=3844)"
   ]
  },
  {
   "cell_type": "markdown",
   "id": "6980aba6",
   "metadata": {},
   "source": [
    "### <font colour = 'black'> Linear Regression </font>"
   ]
  },
  {
   "cell_type": "code",
   "execution_count": 622,
   "id": "66189235",
   "metadata": {},
   "outputs": [],
   "source": [
    "reg=LinearRegression()\n",
    "reg.fit(X_train,y_train)\n",
    "reg_pred=reg.predict(X_test)\n",
    "score=reg.score(X_test,y_test)"
   ]
  },
  {
   "cell_type": "code",
   "execution_count": 623,
   "id": "5fbff15c",
   "metadata": {
    "scrolled": true
   },
   "outputs": [
    {
     "name": "stdout",
     "output_type": "stream",
     "text": [
      "Accuracy : 0.7287925614622519\n",
      "Std Deviation : 2645.931191376131\n",
      "Mean Deviation : 1943.664561856155\n",
      "Mean Price : 8164.5\n"
     ]
    }
   ],
   "source": [
    "print(\"Accuracy :\", score)\n",
    "print(\"Std Deviation :\",math.sqrt(sum((y_test - reg_pred)**2)/len(reg_pred)))\n",
    "print(\"Mean Deviation :\",sum((y_test - reg_pred).abs())/len(reg_pred))\n",
    "print(\"Mean Price :\",y_test.mean())"
   ]
  }
 ],
 "metadata": {
  "kernelspec": {
   "display_name": "Python 3 (ipykernel)",
   "language": "python",
   "name": "python3"
  },
  "language_info": {
   "codemirror_mode": {
    "name": "ipython",
    "version": 3
   },
   "file_extension": ".py",
   "mimetype": "text/x-python",
   "name": "python",
   "nbconvert_exporter": "python",
   "pygments_lexer": "ipython3",
   "version": "3.9.12"
  }
 },
 "nbformat": 4,
 "nbformat_minor": 5
}
